{
  "nbformat": 4,
  "nbformat_minor": 0,
  "metadata": {
    "colab": {
      "name": "cifar_10.ipynb",
      "version": "0.3.2",
      "provenance": []
    },
    "kernelspec": {
      "name": "python3",
      "display_name": "Python 3"
    },
    "accelerator": "GPU"
  },
  "cells": [
    {
      "cell_type": "code",
      "metadata": {
        "id": "aV0oYrZpUb6J",
        "colab_type": "code",
        "colab": {
          "base_uri": "https://localhost:8080/",
          "height": 68
        },
        "outputId": "1d8bc2a1-8561-4535-cc2e-3c9b7a327af7"
      },
      "source": [
        "from keras.datasets import cifar10\n",
        "(x_train, y_train), (x_test, y_test) = cifar10.load_data()"
      ],
      "execution_count": 1,
      "outputs": []
    },
    {
      "cell_type": "code",
      "metadata": {
        "id": "7YZIMC6oU1lR",
        "colab_type": "code",
        "colab": {
          "base_uri": "https://localhost:8080/",
          "height": 34
        },
        "outputId": "2ac0a320-1267-4b5e-8289-67b72dbb9b7c",
        "tags": []
      },
      "source": [
        "print('x_train shape:', x_train.shape)"
      ],
      "execution_count": 2,
      "outputs": [
        {
          "output_type": "stream",
          "name": "stdout",
          "text": "x_train shape: (50000, 32, 32, 3)\n"
        }
      ]
    },
    {
      "cell_type": "code",
      "metadata": {
        "id": "RoeWlu8FVF89",
        "colab_type": "code",
        "colab": {
          "base_uri": "https://localhost:8080/",
          "height": 34
        },
        "outputId": "dbd1dea9-eb71-455a-dfa4-2e5c76c2b564",
        "tags": []
      },
      "source": [
        "print('y_train shape:', y_train.shape)"
      ],
      "execution_count": 3,
      "outputs": [
        {
          "output_type": "stream",
          "name": "stdout",
          "text": "y_train shape: (50000, 1)\n"
        }
      ]
    },
    {
      "cell_type": "code",
      "metadata": {
        "id": "XXeaxhkwVTv0",
        "colab_type": "code",
        "colab": {
          "base_uri": "https://localhost:8080/",
          "height": 850
        },
        "outputId": "5594589e-6940-4014-e367-173e78dfbc07",
        "tags": []
      },
      "source": [
        "print(x_train[0])"
      ],
      "execution_count": 7,
      "outputs": [
        {
          "output_type": "stream",
          "name": "stdout",
          "text": "[[[ 59  62  63]\n  [ 43  46  45]\n  [ 50  48  43]\n  ...\n  [158 132 108]\n  [152 125 102]\n  [148 124 103]]\n\n [[ 16  20  20]\n  [  0   0   0]\n  [ 18   8   0]\n  ...\n  [123  88  55]\n  [119  83  50]\n  [122  87  57]]\n\n [[ 25  24  21]\n  [ 16   7   0]\n  [ 49  27   8]\n  ...\n  [118  84  50]\n  [120  84  50]\n  [109  73  42]]\n\n ...\n\n [[208 170  96]\n  [201 153  34]\n  [198 161  26]\n  ...\n  [160 133  70]\n  [ 56  31   7]\n  [ 53  34  20]]\n\n [[180 139  96]\n  [173 123  42]\n  [186 144  30]\n  ...\n  [184 148  94]\n  [ 97  62  34]\n  [ 83  53  34]]\n\n [[177 144 116]\n  [168 129  94]\n  [179 142  87]\n  ...\n  [216 184 140]\n  [151 118  84]\n  [123  92  72]]]\n"
        }
      ]
    },
    {
      "cell_type": "code",
      "metadata": {
        "id": "bKeMDUlXVYux",
        "colab_type": "code",
        "colab": {
          "base_uri": "https://localhost:8080/",
          "height": 269
        },
        "outputId": "10dfe5ef-3620-405c-c93c-a55278f2ff4c"
      },
      "source": [
        "import matplotlib.pyplot as plt\n",
        "%matplotlib inline\n",
        "img = plt.imshow(x_train[0])"
      ],
      "execution_count": 8,
      "outputs": [
        {
          "output_type": "display_data",
          "data": {
            "text/plain": "<Figure size 432x288 with 1 Axes>",
            "image/svg+xml": "<?xml version=\"1.0\" encoding=\"utf-8\" standalone=\"no\"?>\r\n<!DOCTYPE svg PUBLIC \"-//W3C//DTD SVG 1.1//EN\"\r\n  \"http://www.w3.org/Graphics/SVG/1.1/DTD/svg11.dtd\">\r\n<!-- Created with matplotlib (https://matplotlib.org/) -->\r\n<svg height=\"248.919844pt\" version=\"1.1\" viewBox=\"0 0 251.565 248.919844\" width=\"251.565pt\" xmlns=\"http://www.w3.org/2000/svg\" xmlns:xlink=\"http://www.w3.org/1999/xlink\">\r\n <metadata>\r\n  <rdf:RDF xmlns:cc=\"http://creativecommons.org/ns#\" xmlns:dc=\"http://purl.org/dc/elements/1.1/\" xmlns:rdf=\"http://www.w3.org/1999/02/22-rdf-syntax-ns#\">\r\n   <cc:Work>\r\n    <dc:type rdf:resource=\"http://purl.org/dc/dcmitype/StillImage\"/>\r\n    <dc:date>2020-08-09T19:41:36.242950</dc:date>\r\n    <dc:format>image/svg+xml</dc:format>\r\n    <dc:creator>\r\n     <cc:Agent>\r\n      <dc:title>Matplotlib v3.3.0, https://matplotlib.org/</dc:title>\r\n     </cc:Agent>\r\n    </dc:creator>\r\n   </cc:Work>\r\n  </rdf:RDF>\r\n </metadata>\r\n <defs>\r\n  <style type=\"text/css\">*{stroke-linecap:butt;stroke-linejoin:round;}</style>\r\n </defs>\r\n <g id=\"figure_1\">\r\n  <g id=\"patch_1\">\r\n   <path d=\"M 0 248.919844 \r\nL 251.565 248.919844 \r\nL 251.565 0 \r\nL 0 0 \r\nz\r\n\" style=\"fill:none;\"/>\r\n  </g>\r\n  <g id=\"axes_1\">\r\n   <g id=\"patch_2\">\r\n    <path d=\"M 26.925 225.041719 \r\nL 244.365 225.041719 \r\nL 244.365 7.601719 \r\nL 26.925 7.601719 \r\nz\r\n\" style=\"fill:#ffffff;\"/>\r\n   </g>\r\n   <g clip-path=\"url(#p04dd94ec17)\">\r\n    <image height=\"218\" id=\"image5ac9b20f58\" transform=\"scale(1 -1)translate(0 -218)\" width=\"218\" x=\"26.925\" xlink:href=\"data:image/png;base64,\r\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\" y=\"-7.041719\"/>\r\n   </g>\r\n   <g id=\"matplotlib.axis_1\">\r\n    <g id=\"xtick_1\">\r\n     <g id=\"line2d_1\">\r\n      <defs>\r\n       <path d=\"M 0 0 \r\nL 0 3.5 \r\n\" id=\"m24674d2127\" style=\"stroke:#000000;stroke-width:0.8;\"/>\r\n      </defs>\r\n      <g>\r\n       <use style=\"stroke:#000000;stroke-width:0.8;\" x=\"30.3225\" xlink:href=\"#m24674d2127\" y=\"225.041719\"/>\r\n      </g>\r\n     </g>\r\n     <g id=\"text_1\">\r\n      <!-- 0 -->\r\n      <g transform=\"translate(27.14125 239.640156)scale(0.1 -0.1)\">\r\n       <defs>\r\n        <path d=\"M 31.78125 66.40625 \r\nQ 24.171875 66.40625 20.328125 58.90625 \r\nQ 16.5 51.421875 16.5 36.375 \r\nQ 16.5 21.390625 20.328125 13.890625 \r\nQ 24.171875 6.390625 31.78125 6.390625 \r\nQ 39.453125 6.390625 43.28125 13.890625 \r\nQ 47.125 21.390625 47.125 36.375 \r\nQ 47.125 51.421875 43.28125 58.90625 \r\nQ 39.453125 66.40625 31.78125 66.40625 \r\nz\r\nM 31.78125 74.21875 \r\nQ 44.046875 74.21875 50.515625 64.515625 \r\nQ 56.984375 54.828125 56.984375 36.375 \r\nQ 56.984375 17.96875 50.515625 8.265625 \r\nQ 44.046875 -1.421875 31.78125 -1.421875 \r\nQ 19.53125 -1.421875 13.0625 8.265625 \r\nQ 6.59375 17.96875 6.59375 36.375 \r\nQ 6.59375 54.828125 13.0625 64.515625 \r\nQ 19.53125 74.21875 31.78125 74.21875 \r\nz\r\n\" id=\"DejaVuSans-48\"/>\r\n       </defs>\r\n       <use xlink:href=\"#DejaVuSans-48\"/>\r\n      </g>\r\n     </g>\r\n    </g>\r\n    <g id=\"xtick_2\">\r\n     <g id=\"line2d_2\">\r\n      <g>\r\n       <use style=\"stroke:#000000;stroke-width:0.8;\" x=\"64.2975\" xlink:href=\"#m24674d2127\" y=\"225.041719\"/>\r\n      </g>\r\n     </g>\r\n     <g id=\"text_2\">\r\n      <!-- 5 -->\r\n      <g transform=\"translate(61.11625 239.640156)scale(0.1 -0.1)\">\r\n       <defs>\r\n        <path d=\"M 10.796875 72.90625 \r\nL 49.515625 72.90625 \r\nL 49.515625 64.59375 \r\nL 19.828125 64.59375 \r\nL 19.828125 46.734375 \r\nQ 21.96875 47.46875 24.109375 47.828125 \r\nQ 26.265625 48.1875 28.421875 48.1875 \r\nQ 40.625 48.1875 47.75 41.5 \r\nQ 54.890625 34.8125 54.890625 23.390625 \r\nQ 54.890625 11.625 47.5625 5.09375 \r\nQ 40.234375 -1.421875 26.90625 -1.421875 \r\nQ 22.3125 -1.421875 17.546875 -0.640625 \r\nQ 12.796875 0.140625 7.71875 1.703125 \r\nL 7.71875 11.625 \r\nQ 12.109375 9.234375 16.796875 8.0625 \r\nQ 21.484375 6.890625 26.703125 6.890625 \r\nQ 35.15625 6.890625 40.078125 11.328125 \r\nQ 45.015625 15.765625 45.015625 23.390625 \r\nQ 45.015625 31 40.078125 35.4375 \r\nQ 35.15625 39.890625 26.703125 39.890625 \r\nQ 22.75 39.890625 18.8125 39.015625 \r\nQ 14.890625 38.140625 10.796875 36.28125 \r\nz\r\n\" id=\"DejaVuSans-53\"/>\r\n       </defs>\r\n       <use xlink:href=\"#DejaVuSans-53\"/>\r\n      </g>\r\n     </g>\r\n    </g>\r\n    <g id=\"xtick_3\">\r\n     <g id=\"line2d_3\">\r\n      <g>\r\n       <use style=\"stroke:#000000;stroke-width:0.8;\" x=\"98.2725\" xlink:href=\"#m24674d2127\" y=\"225.041719\"/>\r\n      </g>\r\n     </g>\r\n     <g id=\"text_3\">\r\n      <!-- 10 -->\r\n      <g transform=\"translate(91.91 239.640156)scale(0.1 -0.1)\">\r\n       <defs>\r\n        <path d=\"M 12.40625 8.296875 \r\nL 28.515625 8.296875 \r\nL 28.515625 63.921875 \r\nL 10.984375 60.40625 \r\nL 10.984375 69.390625 \r\nL 28.421875 72.90625 \r\nL 38.28125 72.90625 \r\nL 38.28125 8.296875 \r\nL 54.390625 8.296875 \r\nL 54.390625 0 \r\nL 12.40625 0 \r\nz\r\n\" id=\"DejaVuSans-49\"/>\r\n       </defs>\r\n       <use xlink:href=\"#DejaVuSans-49\"/>\r\n       <use x=\"63.623047\" xlink:href=\"#DejaVuSans-48\"/>\r\n      </g>\r\n     </g>\r\n    </g>\r\n    <g id=\"xtick_4\">\r\n     <g id=\"line2d_4\">\r\n      <g>\r\n       <use style=\"stroke:#000000;stroke-width:0.8;\" x=\"132.2475\" xlink:href=\"#m24674d2127\" y=\"225.041719\"/>\r\n      </g>\r\n     </g>\r\n     <g id=\"text_4\">\r\n      <!-- 15 -->\r\n      <g transform=\"translate(125.885 239.640156)scale(0.1 -0.1)\">\r\n       <use xlink:href=\"#DejaVuSans-49\"/>\r\n       <use x=\"63.623047\" xlink:href=\"#DejaVuSans-53\"/>\r\n      </g>\r\n     </g>\r\n    </g>\r\n    <g id=\"xtick_5\">\r\n     <g id=\"line2d_5\">\r\n      <g>\r\n       <use style=\"stroke:#000000;stroke-width:0.8;\" x=\"166.2225\" xlink:href=\"#m24674d2127\" y=\"225.041719\"/>\r\n      </g>\r\n     </g>\r\n     <g id=\"text_5\">\r\n      <!-- 20 -->\r\n      <g transform=\"translate(159.86 239.640156)scale(0.1 -0.1)\">\r\n       <defs>\r\n        <path d=\"M 19.1875 8.296875 \r\nL 53.609375 8.296875 \r\nL 53.609375 0 \r\nL 7.328125 0 \r\nL 7.328125 8.296875 \r\nQ 12.9375 14.109375 22.625 23.890625 \r\nQ 32.328125 33.6875 34.8125 36.53125 \r\nQ 39.546875 41.84375 41.421875 45.53125 \r\nQ 43.3125 49.21875 43.3125 52.78125 \r\nQ 43.3125 58.59375 39.234375 62.25 \r\nQ 35.15625 65.921875 28.609375 65.921875 \r\nQ 23.96875 65.921875 18.8125 64.3125 \r\nQ 13.671875 62.703125 7.8125 59.421875 \r\nL 7.8125 69.390625 \r\nQ 13.765625 71.78125 18.9375 73 \r\nQ 24.125 74.21875 28.421875 74.21875 \r\nQ 39.75 74.21875 46.484375 68.546875 \r\nQ 53.21875 62.890625 53.21875 53.421875 \r\nQ 53.21875 48.921875 51.53125 44.890625 \r\nQ 49.859375 40.875 45.40625 35.40625 \r\nQ 44.1875 33.984375 37.640625 27.21875 \r\nQ 31.109375 20.453125 19.1875 8.296875 \r\nz\r\n\" id=\"DejaVuSans-50\"/>\r\n       </defs>\r\n       <use xlink:href=\"#DejaVuSans-50\"/>\r\n       <use x=\"63.623047\" xlink:href=\"#DejaVuSans-48\"/>\r\n      </g>\r\n     </g>\r\n    </g>\r\n    <g id=\"xtick_6\">\r\n     <g id=\"line2d_6\">\r\n      <g>\r\n       <use style=\"stroke:#000000;stroke-width:0.8;\" x=\"200.1975\" xlink:href=\"#m24674d2127\" y=\"225.041719\"/>\r\n      </g>\r\n     </g>\r\n     <g id=\"text_6\">\r\n      <!-- 25 -->\r\n      <g transform=\"translate(193.835 239.640156)scale(0.1 -0.1)\">\r\n       <use xlink:href=\"#DejaVuSans-50\"/>\r\n       <use x=\"63.623047\" xlink:href=\"#DejaVuSans-53\"/>\r\n      </g>\r\n     </g>\r\n    </g>\r\n    <g id=\"xtick_7\">\r\n     <g id=\"line2d_7\">\r\n      <g>\r\n       <use style=\"stroke:#000000;stroke-width:0.8;\" x=\"234.1725\" xlink:href=\"#m24674d2127\" y=\"225.041719\"/>\r\n      </g>\r\n     </g>\r\n     <g id=\"text_7\">\r\n      <!-- 30 -->\r\n      <g transform=\"translate(227.81 239.640156)scale(0.1 -0.1)\">\r\n       <defs>\r\n        <path d=\"M 40.578125 39.3125 \r\nQ 47.65625 37.796875 51.625 33 \r\nQ 55.609375 28.21875 55.609375 21.1875 \r\nQ 55.609375 10.40625 48.1875 4.484375 \r\nQ 40.765625 -1.421875 27.09375 -1.421875 \r\nQ 22.515625 -1.421875 17.65625 -0.515625 \r\nQ 12.796875 0.390625 7.625 2.203125 \r\nL 7.625 11.71875 \r\nQ 11.71875 9.328125 16.59375 8.109375 \r\nQ 21.484375 6.890625 26.8125 6.890625 \r\nQ 36.078125 6.890625 40.9375 10.546875 \r\nQ 45.796875 14.203125 45.796875 21.1875 \r\nQ 45.796875 27.640625 41.28125 31.265625 \r\nQ 36.765625 34.90625 28.71875 34.90625 \r\nL 20.21875 34.90625 \r\nL 20.21875 43.015625 \r\nL 29.109375 43.015625 \r\nQ 36.375 43.015625 40.234375 45.921875 \r\nQ 44.09375 48.828125 44.09375 54.296875 \r\nQ 44.09375 59.90625 40.109375 62.90625 \r\nQ 36.140625 65.921875 28.71875 65.921875 \r\nQ 24.65625 65.921875 20.015625 65.03125 \r\nQ 15.375 64.15625 9.8125 62.3125 \r\nL 9.8125 71.09375 \r\nQ 15.4375 72.65625 20.34375 73.4375 \r\nQ 25.25 74.21875 29.59375 74.21875 \r\nQ 40.828125 74.21875 47.359375 69.109375 \r\nQ 53.90625 64.015625 53.90625 55.328125 \r\nQ 53.90625 49.265625 50.4375 45.09375 \r\nQ 46.96875 40.921875 40.578125 39.3125 \r\nz\r\n\" id=\"DejaVuSans-51\"/>\r\n       </defs>\r\n       <use xlink:href=\"#DejaVuSans-51\"/>\r\n       <use x=\"63.623047\" xlink:href=\"#DejaVuSans-48\"/>\r\n      </g>\r\n     </g>\r\n    </g>\r\n   </g>\r\n   <g id=\"matplotlib.axis_2\">\r\n    <g id=\"ytick_1\">\r\n     <g id=\"line2d_8\">\r\n      <defs>\r\n       <path d=\"M 0 0 \r\nL -3.5 0 \r\n\" id=\"m0ebb16897d\" style=\"stroke:#000000;stroke-width:0.8;\"/>\r\n      </defs>\r\n      <g>\r\n       <use style=\"stroke:#000000;stroke-width:0.8;\" x=\"26.925\" xlink:href=\"#m0ebb16897d\" y=\"10.999219\"/>\r\n      </g>\r\n     </g>\r\n     <g id=\"text_8\">\r\n      <!-- 0 -->\r\n      <g transform=\"translate(13.5625 14.798437)scale(0.1 -0.1)\">\r\n       <use xlink:href=\"#DejaVuSans-48\"/>\r\n      </g>\r\n     </g>\r\n    </g>\r\n    <g id=\"ytick_2\">\r\n     <g id=\"line2d_9\">\r\n      <g>\r\n       <use style=\"stroke:#000000;stroke-width:0.8;\" x=\"26.925\" xlink:href=\"#m0ebb16897d\" y=\"44.974219\"/>\r\n      </g>\r\n     </g>\r\n     <g id=\"text_9\">\r\n      <!-- 5 -->\r\n      <g transform=\"translate(13.5625 48.773437)scale(0.1 -0.1)\">\r\n       <use xlink:href=\"#DejaVuSans-53\"/>\r\n      </g>\r\n     </g>\r\n    </g>\r\n    <g id=\"ytick_3\">\r\n     <g id=\"line2d_10\">\r\n      <g>\r\n       <use style=\"stroke:#000000;stroke-width:0.8;\" x=\"26.925\" xlink:href=\"#m0ebb16897d\" y=\"78.949219\"/>\r\n      </g>\r\n     </g>\r\n     <g id=\"text_10\">\r\n      <!-- 10 -->\r\n      <g transform=\"translate(7.2 82.748437)scale(0.1 -0.1)\">\r\n       <use xlink:href=\"#DejaVuSans-49\"/>\r\n       <use x=\"63.623047\" xlink:href=\"#DejaVuSans-48\"/>\r\n      </g>\r\n     </g>\r\n    </g>\r\n    <g id=\"ytick_4\">\r\n     <g id=\"line2d_11\">\r\n      <g>\r\n       <use style=\"stroke:#000000;stroke-width:0.8;\" x=\"26.925\" xlink:href=\"#m0ebb16897d\" y=\"112.924219\"/>\r\n      </g>\r\n     </g>\r\n     <g id=\"text_11\">\r\n      <!-- 15 -->\r\n      <g transform=\"translate(7.2 116.723437)scale(0.1 -0.1)\">\r\n       <use xlink:href=\"#DejaVuSans-49\"/>\r\n       <use x=\"63.623047\" xlink:href=\"#DejaVuSans-53\"/>\r\n      </g>\r\n     </g>\r\n    </g>\r\n    <g id=\"ytick_5\">\r\n     <g id=\"line2d_12\">\r\n      <g>\r\n       <use style=\"stroke:#000000;stroke-width:0.8;\" x=\"26.925\" xlink:href=\"#m0ebb16897d\" y=\"146.899219\"/>\r\n      </g>\r\n     </g>\r\n     <g id=\"text_12\">\r\n      <!-- 20 -->\r\n      <g transform=\"translate(7.2 150.698437)scale(0.1 -0.1)\">\r\n       <use xlink:href=\"#DejaVuSans-50\"/>\r\n       <use x=\"63.623047\" xlink:href=\"#DejaVuSans-48\"/>\r\n      </g>\r\n     </g>\r\n    </g>\r\n    <g id=\"ytick_6\">\r\n     <g id=\"line2d_13\">\r\n      <g>\r\n       <use style=\"stroke:#000000;stroke-width:0.8;\" x=\"26.925\" xlink:href=\"#m0ebb16897d\" y=\"180.874219\"/>\r\n      </g>\r\n     </g>\r\n     <g id=\"text_13\">\r\n      <!-- 25 -->\r\n      <g transform=\"translate(7.2 184.673437)scale(0.1 -0.1)\">\r\n       <use xlink:href=\"#DejaVuSans-50\"/>\r\n       <use x=\"63.623047\" xlink:href=\"#DejaVuSans-53\"/>\r\n      </g>\r\n     </g>\r\n    </g>\r\n    <g id=\"ytick_7\">\r\n     <g id=\"line2d_14\">\r\n      <g>\r\n       <use style=\"stroke:#000000;stroke-width:0.8;\" x=\"26.925\" xlink:href=\"#m0ebb16897d\" y=\"214.849219\"/>\r\n      </g>\r\n     </g>\r\n     <g id=\"text_14\">\r\n      <!-- 30 -->\r\n      <g transform=\"translate(7.2 218.648437)scale(0.1 -0.1)\">\r\n       <use xlink:href=\"#DejaVuSans-51\"/>\r\n       <use x=\"63.623047\" xlink:href=\"#DejaVuSans-48\"/>\r\n      </g>\r\n     </g>\r\n    </g>\r\n   </g>\r\n   <g id=\"patch_3\">\r\n    <path d=\"M 26.925 225.041719 \r\nL 26.925 7.601719 \r\n\" style=\"fill:none;stroke:#000000;stroke-linecap:square;stroke-linejoin:miter;stroke-width:0.8;\"/>\r\n   </g>\r\n   <g id=\"patch_4\">\r\n    <path d=\"M 244.365 225.041719 \r\nL 244.365 7.601719 \r\n\" style=\"fill:none;stroke:#000000;stroke-linecap:square;stroke-linejoin:miter;stroke-width:0.8;\"/>\r\n   </g>\r\n   <g id=\"patch_5\">\r\n    <path d=\"M 26.925 225.041719 \r\nL 244.365 225.041719 \r\n\" style=\"fill:none;stroke:#000000;stroke-linecap:square;stroke-linejoin:miter;stroke-width:0.8;\"/>\r\n   </g>\r\n   <g id=\"patch_6\">\r\n    <path d=\"M 26.925 7.601719 \r\nL 244.365 7.601719 \r\n\" style=\"fill:none;stroke:#000000;stroke-linecap:square;stroke-linejoin:miter;stroke-width:0.8;\"/>\r\n   </g>\r\n  </g>\r\n </g>\r\n <defs>\r\n  <clipPath id=\"p04dd94ec17\">\r\n   <rect height=\"217.44\" width=\"217.44\" x=\"26.925\" y=\"7.601719\"/>\r\n  </clipPath>\r\n </defs>\r\n</svg>\r\n",
            "image/png": "[encoded data removed]"
          },
          "metadata": {
            "needs_background": "light"
          }
        }
      ]
    },
    {
      "cell_type": "code",
      "metadata": {
        "id": "XeFWtm_XVf1H",
        "colab_type": "code",
        "colab": {
          "base_uri": "https://localhost:8080/",
          "height": 34
        },
        "outputId": "61c2e2c8-2c63-47bc-d44e-1159c8688463",
        "tags": []
      },
      "source": [
        "print('The label is:', y_train[0])"
      ],
      "execution_count": 9,
      "outputs": [
        {
          "output_type": "stream",
          "name": "stdout",
          "text": "The label is: [6]\n"
        }
      ]
    },
    {
      "cell_type": "code",
      "metadata": {
        "id": "58Jubn-nWJwr",
        "colab_type": "code",
        "colab": {}
      },
      "source": [
        "import keras\n",
        "y_train_one_hot = keras.utils.to_categorical(y_train, 10)\n",
        "y_test_one_hot = keras.utils.to_categorical(y_test, 10)"
      ],
      "execution_count": 11,
      "outputs": []
    },
    {
      "cell_type": "code",
      "metadata": {
        "id": "Wn5cr6vYWMXk",
        "colab_type": "code",
        "colab": {
          "base_uri": "https://localhost:8080/",
          "height": 34
        },
        "outputId": "f1ae3c42-6b42-4e18-a24b-24d94a7dfe82",
        "tags": []
      },
      "source": [
        "print('The one hot label is:', y_train_one_hot[0])"
      ],
      "execution_count": 12,
      "outputs": [
        {
          "output_type": "stream",
          "name": "stdout",
          "text": "The one hot label is: [0. 0. 0. 0. 0. 0. 1. 0. 0. 0.]\n"
        }
      ]
    },
    {
      "cell_type": "code",
      "metadata": {
        "id": "OIMrw9w1WYG0",
        "colab_type": "code",
        "colab": {}
      },
      "source": [
        "x_train = x_train.astype('float32')\n",
        "x_test = x_test.astype('float32')\n",
        "x_train = x_train / 255\n",
        "x_test = x_test / 255"
      ],
      "execution_count": 14,
      "outputs": []
    },
    {
      "cell_type": "code",
      "metadata": {
        "id": "iFNf3nNRWaZ4",
        "colab_type": "code",
        "colab": {
          "base_uri": "https://localhost:8080/",
          "height": 850
        },
        "outputId": "1c2efebd-0401-4f33-a415-b80417f0cba5"
      },
      "source": [
        "x_train[0]"
      ],
      "execution_count": 15,
      "outputs": [
        {
          "output_type": "execute_result",
          "data": {
            "text/plain": "array([[[0.00090734, 0.00095348, 0.00096886],\n        [0.00066128, 0.00070742, 0.00069204],\n        [0.00076894, 0.00073818, 0.00066128],\n        ...,\n        [0.00242983, 0.00202999, 0.0016609 ],\n        [0.00233756, 0.00192234, 0.00156863],\n        [0.00227605, 0.00190696, 0.00158401]],\n\n       [[0.00024606, 0.00030757, 0.00030757],\n        [0.        , 0.        , 0.        ],\n        [0.00027682, 0.00012303, 0.        ],\n        ...,\n        [0.00189158, 0.00135333, 0.00084583],\n        [0.00183007, 0.00127643, 0.00076894],\n        [0.0018762 , 0.00133795, 0.00087659]],\n\n       [[0.00038447, 0.00036909, 0.00032295],\n        [0.00024606, 0.00010765, 0.        ],\n        [0.00075356, 0.00041522, 0.00012303],\n        ...,\n        [0.00181469, 0.00129181, 0.00076894],\n        [0.00184544, 0.00129181, 0.00076894],\n        [0.00167628, 0.00112265, 0.00064591]],\n\n       ...,\n\n       [[0.00319877, 0.00261438, 0.00147636],\n        [0.00309112, 0.00235294, 0.00052288],\n        [0.00304498, 0.00247597, 0.00039985],\n        ...,\n        [0.00246059, 0.00204537, 0.00107651],\n        [0.00086121, 0.00047674, 0.00010765],\n        [0.00081507, 0.00052288, 0.00030757]],\n\n       [[0.00276817, 0.00213764, 0.00147636],\n        [0.00266052, 0.00189158, 0.00064591],\n        [0.00286044, 0.00221453, 0.00046136],\n        ...,\n        [0.00282968, 0.00227605, 0.0014456 ],\n        [0.00149173, 0.00095348, 0.00052288],\n        [0.00127643, 0.00081507, 0.00052288]],\n\n       [[0.00272203, 0.00221453, 0.00178393],\n        [0.00258362, 0.00198385, 0.0014456 ],\n        [0.00275279, 0.00218378, 0.00133795],\n        ...,\n        [0.0033218 , 0.00282968, 0.00215302],\n        [0.00232218, 0.00181469, 0.00129181],\n        [0.00189158, 0.00141484, 0.00110727]]], dtype=float32)"
          },
          "metadata": {},
          "execution_count": 15
        }
      ]
    },
    {
      "cell_type": "code",
      "metadata": {
        "id": "3SoQlledWhGN",
        "colab_type": "code",
        "colab": {}
      },
      "source": [
        "from keras.models import Sequential\n",
        "from keras.layers import Dense, Dropout, Flatten, Conv2D, MaxPooling2D, Activation, BatchNormalization\n",
        "from keras import regularizers, optimizers"
      ],
      "execution_count": 16,
      "outputs": []
    },
    {
      "cell_type": "code",
      "metadata": {
        "id": "IKuirSecW-cE",
        "colab_type": "code",
        "colab": {
          "base_uri": "https://localhost:8080/",
          "height": 1091
        },
        "outputId": "c9edccff-3799-45ea-bbd3-f48d46267598"
      },
      "source": [
        "num_classes = 10\n",
        "baseMapNum = 32\n",
        "weight_decay = 1e-4\n",
        "model = Sequential()\n",
        "model.add(Conv2D(baseMapNum, (3,3), padding='same', kernel_regularizer=regularizers.l2(weight_decay), input_shape=x_train.shape[1:]))\n",
        "model.add(Activation('relu'))\n",
        "model.add(BatchNormalization())\n",
        "model.add(Conv2D(baseMapNum, (3,3), padding='same', kernel_regularizer=regularizers.l2(weight_decay)))\n",
        "model.add(Activation('relu'))\n",
        "model.add(BatchNormalization())\n",
        "model.add(MaxPooling2D(pool_size=(2,2)))\n",
        "model.add(Dropout(0.2))\n",
        "\n",
        "model.add(Conv2D(2*baseMapNum, (3,3), padding='same', kernel_regularizer=regularizers.l2(weight_decay)))\n",
        "model.add(Activation('relu'))\n",
        "model.add(BatchNormalization())\n",
        "model.add(Conv2D(2*baseMapNum, (3,3), padding='same', kernel_regularizer=regularizers.l2(weight_decay)))\n",
        "model.add(Activation('relu'))\n",
        "model.add(BatchNormalization())\n",
        "model.add(MaxPooling2D(pool_size=(2,2)))\n",
        "model.add(Dropout(0.3))\n",
        "\n",
        "model.add(Conv2D(4*baseMapNum, (3,3), padding='same', kernel_regularizer=regularizers.l2(weight_decay)))\n",
        "model.add(Activation('relu'))\n",
        "model.add(BatchNormalization())\n",
        "model.add(Conv2D(4*baseMapNum, (3,3), padding='same', kernel_regularizer=regularizers.l2(weight_decay)))\n",
        "model.add(Activation('relu'))\n",
        "model.add(BatchNormalization())\n",
        "model.add(MaxPooling2D(pool_size=(2,2)))\n",
        "model.add(Dropout(0.4))\n",
        "\n",
        "model.add(Flatten())\n",
        "model.add(Dense(num_classes, activation='softmax'))\n",
        "\n",
        "\n",
        "model.compile(loss='categorical_crossentropy',\n",
        "              optimizer='adam',\n",
        "              metrics=['accuracy'])\n",
        "\n",
        "hist = model.fit(x_train, y_train_one_hot, \n",
        "           batch_size=32, epochs=20, \n",
        "           validation_split=0.2)"
      ],
      "execution_count": 14,
      "outputs": [
        {
          "output_type": "stream",
          "text": [
            "WARNING: Logging before flag parsing goes to stderr.\n",
            "W0620 10:14:22.077271 140149336995712 deprecation_wrapper.py:119] From /usr/local/lib/python3.6/dist-packages/keras/backend/tensorflow_backend.py:74: The name tf.get_default_graph is deprecated. Please use tf.compat.v1.get_default_graph instead.\n",
            "\n",
            "W0620 10:14:22.126916 140149336995712 deprecation_wrapper.py:119] From /usr/local/lib/python3.6/dist-packages/keras/backend/tensorflow_backend.py:517: The name tf.placeholder is deprecated. Please use tf.compat.v1.placeholder instead.\n",
            "\n",
            "W0620 10:14:22.138187 140149336995712 deprecation_wrapper.py:119] From /usr/local/lib/python3.6/dist-packages/keras/backend/tensorflow_backend.py:4138: The name tf.random_uniform is deprecated. Please use tf.random.uniform instead.\n",
            "\n",
            "W0620 10:14:22.189360 140149336995712 deprecation_wrapper.py:119] From /usr/local/lib/python3.6/dist-packages/keras/backend/tensorflow_backend.py:3976: The name tf.nn.max_pool is deprecated. Please use tf.nn.max_pool2d instead.\n",
            "\n",
            "W0620 10:14:22.193153 140149336995712 deprecation_wrapper.py:119] From /usr/local/lib/python3.6/dist-packages/keras/backend/tensorflow_backend.py:133: The name tf.placeholder_with_default is deprecated. Please use tf.compat.v1.placeholder_with_default instead.\n",
            "\n",
            "W0620 10:14:22.208013 140149336995712 deprecation.py:506] From /usr/local/lib/python3.6/dist-packages/keras/backend/tensorflow_backend.py:3445: calling dropout (from tensorflow.python.ops.nn_ops) with keep_prob is deprecated and will be removed in a future version.\n",
            "Instructions for updating:\n",
            "Please use `rate` instead of `keep_prob`. Rate should be set to `rate = 1 - keep_prob`.\n",
            "W0620 10:14:22.342905 140149336995712 deprecation_wrapper.py:119] From /usr/local/lib/python3.6/dist-packages/keras/optimizers.py:790: The name tf.train.Optimizer is deprecated. Please use tf.compat.v1.train.Optimizer instead.\n",
            "\n",
            "W0620 10:14:22.371975 140149336995712 deprecation_wrapper.py:119] From /usr/local/lib/python3.6/dist-packages/keras/backend/tensorflow_backend.py:3295: The name tf.log is deprecated. Please use tf.math.log instead.\n",
            "\n",
            "W0620 10:14:22.522896 140149336995712 deprecation.py:323] From /usr/local/lib/python3.6/dist-packages/tensorflow/python/ops/math_grad.py:1250: add_dispatch_support.<locals>.wrapper (from tensorflow.python.ops.array_ops) is deprecated and will be removed in a future version.\n",
            "Instructions for updating:\n",
            "Use tf.where in 2.0, which has the same broadcast rule as np.where\n"
          ],
          "name": "stderr"
        },
        {
          "output_type": "stream",
          "text": [
            "Train on 40000 samples, validate on 10000 samples\n",
            "Epoch 1/20\n",
            "40000/40000 [==============================] - 26s 645us/step - loss: 1.5841 - acc: 0.4202 - val_loss: 1.1823 - val_acc: 0.5831\n",
            "Epoch 2/20\n",
            "40000/40000 [==============================] - 19s 487us/step - loss: 1.1447 - acc: 0.5901 - val_loss: 0.9442 - val_acc: 0.6704\n",
            "Epoch 3/20\n",
            "40000/40000 [==============================] - 20s 489us/step - loss: 0.9885 - acc: 0.6521 - val_loss: 0.8538 - val_acc: 0.6963\n",
            "Epoch 4/20\n",
            "40000/40000 [==============================] - 19s 487us/step - loss: 0.8789 - acc: 0.6889 - val_loss: 0.7873 - val_acc: 0.7249\n",
            "Epoch 5/20\n",
            "40000/40000 [==============================] - 20s 494us/step - loss: 0.8104 - acc: 0.7138 - val_loss: 0.7486 - val_acc: 0.7433\n",
            "Epoch 6/20\n",
            "40000/40000 [==============================] - 20s 488us/step - loss: 0.7552 - acc: 0.7333 - val_loss: 0.7154 - val_acc: 0.7557\n",
            "Epoch 7/20\n",
            "40000/40000 [==============================] - 20s 488us/step - loss: 0.7049 - acc: 0.7527 - val_loss: 0.7013 - val_acc: 0.7593\n",
            "Epoch 8/20\n",
            "40000/40000 [==============================] - 20s 488us/step - loss: 0.6602 - acc: 0.7667 - val_loss: 0.7043 - val_acc: 0.7628\n",
            "Epoch 9/20\n",
            "40000/40000 [==============================] - 19s 486us/step - loss: 0.6288 - acc: 0.7782 - val_loss: 0.6973 - val_acc: 0.7670\n",
            "Epoch 10/20\n",
            "40000/40000 [==============================] - 19s 486us/step - loss: 0.5939 - acc: 0.7913 - val_loss: 0.6894 - val_acc: 0.7718\n",
            "Epoch 11/20\n",
            "40000/40000 [==============================] - 20s 488us/step - loss: 0.5683 - acc: 0.8001 - val_loss: 0.7180 - val_acc: 0.7634\n",
            "Epoch 12/20\n",
            "40000/40000 [==============================] - 19s 487us/step - loss: 0.5474 - acc: 0.8073 - val_loss: 0.7007 - val_acc: 0.7650\n",
            "Epoch 13/20\n",
            "40000/40000 [==============================] - 20s 488us/step - loss: 0.5216 - acc: 0.8147 - val_loss: 0.6698 - val_acc: 0.7768\n",
            "Epoch 14/20\n",
            "40000/40000 [==============================] - 19s 486us/step - loss: 0.4992 - acc: 0.8244 - val_loss: 0.6868 - val_acc: 0.7769\n",
            "Epoch 15/20\n",
            "40000/40000 [==============================] - 19s 486us/step - loss: 0.4880 - acc: 0.8259 - val_loss: 0.6712 - val_acc: 0.7758\n",
            "Epoch 16/20\n",
            "40000/40000 [==============================] - 19s 487us/step - loss: 0.4613 - acc: 0.8367 - val_loss: 0.6922 - val_acc: 0.7775\n",
            "Epoch 17/20\n",
            "40000/40000 [==============================] - 20s 489us/step - loss: 0.4516 - acc: 0.8422 - val_loss: 0.6850 - val_acc: 0.7818\n",
            "Epoch 18/20\n",
            "40000/40000 [==============================] - 20s 488us/step - loss: 0.4447 - acc: 0.8421 - val_loss: 0.7031 - val_acc: 0.7766\n",
            "Epoch 19/20\n",
            "40000/40000 [==============================] - 20s 488us/step - loss: 0.4393 - acc: 0.8454 - val_loss: 0.7077 - val_acc: 0.7796\n",
            "Epoch 20/20\n",
            "40000/40000 [==============================] - 20s 491us/step - loss: 0.4169 - acc: 0.8530 - val_loss: 0.6772 - val_acc: 0.7847\n"
          ],
          "name": "stdout"
        }
      ]
    },
    {
      "cell_type": "code",
      "metadata": {
        "id": "J9qW-S0qYU4t",
        "colab_type": "code",
        "colab": {
          "base_uri": "https://localhost:8080/",
          "height": 544
        },
        "outputId": "ca40ce2c-78ab-4315-ca81-134c2d76f465"
      },
      "source": [
        "model.summary()"
      ],
      "execution_count": 15,
      "outputs": [
        {
          "output_type": "stream",
          "text": [
            "_________________________________________________________________\n",
            "Layer (type)                 Output Shape              Param #   \n",
            "=================================================================\n",
            "conv2d_1 (Conv2D)            (None, 32, 32, 32)        896       \n",
            "_________________________________________________________________\n",
            "conv2d_2 (Conv2D)            (None, 32, 32, 32)        9248      \n",
            "_________________________________________________________________\n",
            "max_pooling2d_1 (MaxPooling2 (None, 16, 16, 32)        0         \n",
            "_________________________________________________________________\n",
            "dropout_1 (Dropout)          (None, 16, 16, 32)        0         \n",
            "_________________________________________________________________\n",
            "conv2d_3 (Conv2D)            (None, 16, 16, 64)        18496     \n",
            "_________________________________________________________________\n",
            "conv2d_4 (Conv2D)            (None, 16, 16, 64)        36928     \n",
            "_________________________________________________________________\n",
            "max_pooling2d_2 (MaxPooling2 (None, 8, 8, 64)          0         \n",
            "_________________________________________________________________\n",
            "dropout_2 (Dropout)          (None, 8, 8, 64)          0         \n",
            "_________________________________________________________________\n",
            "flatten_1 (Flatten)          (None, 4096)              0         \n",
            "_________________________________________________________________\n",
            "dense_1 (Dense)              (None, 512)               2097664   \n",
            "_________________________________________________________________\n",
            "dropout_3 (Dropout)          (None, 512)               0         \n",
            "_________________________________________________________________\n",
            "dense_2 (Dense)              (None, 10)                5130      \n",
            "=================================================================\n",
            "Total params: 2,168,362\n",
            "Trainable params: 2,168,362\n",
            "Non-trainable params: 0\n",
            "_________________________________________________________________\n"
          ],
          "name": "stdout"
        }
      ]
    },
    {
      "cell_type": "code",
      "metadata": {
        "id": "HymQ8-ZbYYeA",
        "colab_type": "code",
        "colab": {
          "base_uri": "https://localhost:8080/",
          "height": 295
        },
        "outputId": "270a76f9-d910-4a2d-8faf-4df5b5f4fae1"
      },
      "source": [
        "plt.plot(hist.history['loss'])\n",
        "plt.plot(hist.history['val_loss'])\n",
        "plt.title('Model loss')\n",
        "plt.ylabel('Loss')\n",
        "plt.xlabel('Epoch')\n",
        "plt.legend(['Train', 'Val'], loc='upper right')\n",
        "plt.show()"
      ],
      "execution_count": 16,
      "outputs": [
        {
          "output_type": "display_data",
          "data": {
            "image/png": "[encoded data removed]",
            "text/plain": [
              "<Figure size 432x288 with 1 Axes>"
            ]
          },
          "metadata": {
            "tags": []
          }
        }
      ]
    },
    {
      "cell_type": "code",
      "metadata": {
        "id": "JVCQ8KKQYbfY",
        "colab_type": "code",
        "colab": {
          "base_uri": "https://localhost:8080/",
          "height": 295
        },
        "outputId": "b35309c6-bf3c-4b16-82e1-095c6c61b61b"
      },
      "source": [
        "plt.plot(hist.history['acc'])\n",
        "plt.plot(hist.history['val_acc'])\n",
        "plt.title('Model accuracy')\n",
        "plt.ylabel('Accuracy')\n",
        "plt.xlabel('Epoch')\n",
        "plt.legend(['Train', 'Val'], loc='lower right')\n",
        "plt.show()\n"
      ],
      "execution_count": 17,
      "outputs": [
        {
          "output_type": "display_data",
          "data": {
            "image/png": "[encoded data removed]",
            "text/plain": [
              "<Figure size 432x288 with 1 Axes>"
            ]
          },
          "metadata": {
            "tags": []
          }
        }
      ]
    },
    {
      "cell_type": "code",
      "metadata": {
        "id": "vN78S6TZYg3s",
        "colab_type": "code",
        "colab": {
          "base_uri": "https://localhost:8080/",
          "height": 34
        },
        "outputId": "fef859aa-9e70-49a3-dfad-9cbe66cc5f5e"
      },
      "source": [
        "loss, acc = model.evaluate(x_test, y_test_one_hot)"
      ],
      "execution_count": 18,
      "outputs": [
        {
          "output_type": "stream",
          "text": [
            "10000/10000 [==============================] - 1s 146us/step\n"
          ],
          "name": "stdout"
        }
      ]
    },
    {
      "cell_type": "code",
      "metadata": {
        "id": "aLSxr50RaH4K",
        "colab_type": "code",
        "colab": {
          "base_uri": "https://localhost:8080/",
          "height": 34
        },
        "outputId": "8e59636b-b73a-4df6-ee94-edd0d1fdb7a4"
      },
      "source": [
        "loss, acc"
      ],
      "execution_count": 19,
      "outputs": [
        {
          "output_type": "execute_result",
          "data": {
            "text/plain": [
              "(0.7113743923664093, 0.7723)"
            ]
          },
          "metadata": {
            "tags": []
          },
          "execution_count": 19
        }
      ]
    },
    {
      "cell_type": "code",
      "metadata": {
        "id": "3eOLxd1tYqwI",
        "colab_type": "code",
        "colab": {}
      },
      "source": [
        "model.save('my_cifar10_model.h5')\n",
        "\n",
        "from keras.models import load_model\n",
        "model = load_model('my_cifar10_model.h5')"
      ],
      "execution_count": 0,
      "outputs": []
    },
    {
      "cell_type": "code",
      "metadata": {
        "id": "ERq3nyGwZJ3S",
        "colab_type": "code",
        "colab": {
          "base_uri": "https://localhost:8080/",
          "height": 269
        },
        "outputId": "88a5215f-4ea9-430c-93da-13cb48896c2b"
      },
      "source": [
        "my_image = plt.imread(\"aeroplane.jpeg\")\n",
        "\n",
        "from skimage.transform import resize\n",
        "my_image_resized = resize(my_image, (32,32,3))\n",
        "\n",
        "img = plt.imshow(my_image_resized)"
      ],
      "execution_count": 21,
      "outputs": [
        {
          "output_type": "display_data",
          "data": {
            "image/png": "[encoded data removed]",
            "text/plain": [
              "<Figure size 432x288 with 1 Axes>"
            ]
          },
          "metadata": {
            "tags": []
          }
        }
      ]
    },
    {
      "cell_type": "code",
      "metadata": {
        "id": "v0dpD644Ze3E",
        "colab_type": "code",
        "colab": {}
      },
      "source": [
        "import numpy as np\n",
        "probabilities = model.predict(np.array( [my_image_resized,] ))"
      ],
      "execution_count": 0,
      "outputs": []
    },
    {
      "cell_type": "code",
      "metadata": {
        "id": "EosqQIWmZr3W",
        "colab_type": "code",
        "colab": {
          "base_uri": "https://localhost:8080/",
          "height": 68
        },
        "outputId": "d91bee53-1c7a-4970-f416-cdcf44b65056"
      },
      "source": [
        "probabilities"
      ],
      "execution_count": 23,
      "outputs": [
        {
          "output_type": "execute_result",
          "data": {
            "text/plain": [
              "array([[9.9727112e-01, 1.9900330e-07, 2.6844346e-03, 1.6656379e-05,\n",
              "        6.6497828e-06, 1.2169755e-06, 1.4419926e-05, 1.7293226e-08,\n",
              "        4.8437655e-06, 3.6744865e-07]], dtype=float32)"
            ]
          },
          "metadata": {
            "tags": []
          },
          "execution_count": 23
        }
      ]
    },
    {
      "cell_type": "code",
      "metadata": {
        "id": "5Mk5Sf8HZ5fB",
        "colab_type": "code",
        "colab": {
          "base_uri": "https://localhost:8080/",
          "height": 102
        },
        "outputId": "cc1a3428-5b54-47e1-b663-d843343261c6"
      },
      "source": [
        "number_to_class = ['airplane', 'automobile', 'bird', 'cat', 'deer', 'dog', 'frog', 'horse', 'ship', 'truck']\n",
        "index = np.argsort(probabilities[0,:])\n",
        "print(\"Most likely class:\", number_to_class[index[9]], \"-- Probability:\", probabilities[0,index[9]])\n",
        "print(\"Second most likely class:\", number_to_class[index[8]], \"-- Probability:\", probabilities[0,index[8]])\n",
        "print(\"Third most likely class:\", number_to_class[index[7]], \"-- Probability:\", probabilities[0,index[7]])\n",
        "print(\"Fourth most likely class:\", number_to_class[index[6]], \"-- Probability:\", probabilities[0,index[6]])\n",
        "print(\"Fifth most likely class:\", number_to_class[index[5]], \"-- Probability:\", probabilities[0,index[5]])"
      ],
      "execution_count": 24,
      "outputs": [
        {
          "output_type": "stream",
          "text": [
            "Most likely class: airplane -- Probability: 0.9972711\n",
            "Second most likely class: bird -- Probability: 0.0026844346\n",
            "Third most likely class: cat -- Probability: 1.6656379e-05\n",
            "Fourth most likely class: frog -- Probability: 1.4419926e-05\n",
            "Fifth most likely class: deer -- Probability: 6.649783e-06\n"
          ],
          "name": "stdout"
        }
      ]
    }
  ]
}